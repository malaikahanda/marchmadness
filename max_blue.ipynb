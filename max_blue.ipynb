{
 "cells": [
  {
   "cell_type": "markdown",
   "metadata": {},
   "source": [
    "# MaxBlue Algorithm for Determining Basketball Winners\n",
    "\n",
    "Hypothesis: in a match up between two teams, the bluest team will win. This will be the basis for my bracket picks.\n",
    "\n",
    "## Contents\n",
    "- [Data collection](#data_collection)\n",
    "    - [Scraping the page](#scraping_the_page)\n",
    "    - [Saving the images](#saving_the_images)\n",
    "    - [Calculating the blue](#calculating_the_blue)\n",
    "- [Visualizations](#visualizations)\n",
    "    - [Maximum blue value](#max)\n",
    "    - [Maximum blue value, penalized (subtraction)](#max_sub)\n",
    "    - [Maximum blue value, penalized (division)](#max_div)\n",
    "- [Conclusion](#conclusion)\n",
    "    - [Feature Selection Sunday](#selection_sunday)\n",
    "    - [Bracket](#bracket)"
   ]
  },
  {
   "cell_type": "code",
   "execution_count": 1,
   "metadata": {},
   "outputs": [],
   "source": [
    "from bs4 import BeautifulSoup\n",
    "import cv2\n",
    "import numpy as np\n",
    "import os\n",
    "import pandas as pd\n",
    "import requests"
   ]
  },
  {
   "cell_type": "markdown",
   "metadata": {},
   "source": [
    "<a id='data_collection'></a>\n",
    "## Data collection\n",
    "\n",
    "In an attempt at keeping this hot mess of an analysis standardized, all the images come from the exact same place: the ESPN website."
   ]
  },
  {
   "cell_type": "markdown",
   "metadata": {},
   "source": [
    "<a id='scraping_the_page'></a>\n",
    "### Scraping the page\n",
    "\n",
    "Each school listed in the bracket is a link that contains the school's name and ID. We can grab all these links, and then store the names and IDs."
   ]
  },
  {
   "cell_type": "code",
   "execution_count": 2,
   "metadata": {},
   "outputs": [],
   "source": [
    "# constants\n",
    "\n",
    "HEADERS = {\n",
    "\"User-Agent\":'Mozilla/5.0 (Windows NT 6.3; WOW64) AppleWebKit/537.36 (KHTML, like Gecko) Chrome/59.0.3071.115 Safari/537.36'\n",
    "}\n",
    "\n",
    "SITE = \"http://www.espn.com/mens-college-basketball/tournament/bracket\"\n",
    "LOGO_DIR = \"logos/\"\n",
    "IMAGE_LINK = \"https://a.espncdn.com/i/teamlogos/ncaa/500/{}.png\"\n",
    "PIXEL_FILE = \"pixels.csv\"\n",
    "\n",
    "if not os.path.exists(LOGO_DIR):\n",
    "    os.mkdir(LOGO_DIR)"
   ]
  },
  {
   "cell_type": "code",
   "execution_count": 3,
   "metadata": {},
   "outputs": [],
   "source": [
    "# read the bracket, and find each team\n",
    "page = requests.get(SITE, headers=HEADERS)\n",
    "soup = BeautifulSoup(page.content, \"lxml\")\n",
    "tags = soup.find_all(\"dt\")"
   ]
  },
  {
   "cell_type": "code",
   "execution_count": 4,
   "metadata": {},
   "outputs": [],
   "source": [
    "# parse the html to get team info\n",
    "# pls don't read this disgusting code\n",
    "\n",
    "team_map_ = dict()\n",
    "seen_ids = set()\n",
    "for tag in tags:\n",
    "    \n",
    "    string = str(tag)\n",
    "    if (len(string) < 10):\n",
    "        continue\n",
    "        \n",
    "    [team1, team2] = string.split(\"<br/>\")\n",
    "    \n",
    "    # team1\n",
    "    seed = team1.split(\" \")[0].replace(\"<dt>\", \"\").replace(\"<b>\", \"\")\n",
    "    url = team1.split(\"team/_/id/\")[1]\n",
    "    id_ = url.split(\"/\")[0]\n",
    "    name = url.split('\">')[1].split(\"<\")[0]\n",
    "    if (id_ not in seen_ids):\n",
    "        team_map_[name] = (seed, id_)\n",
    "    seen_ids.add(id_)\n",
    "    \n",
    "    # team2\n",
    "    seed = team2.split(\" \")[0].replace(\"<b>\", \"\")\n",
    "    url = team2.split(\"team/_/id/\")[1]\n",
    "    id_ = url.split(\"/\")[0]\n",
    "    name = url.split('\">')[1].split(\"<\")[0]\n",
    "    if (id_ not in seen_ids):\n",
    "        team_map_[name] = (seed, id_)\n",
    "    seen_ids.add(id_)\n",
    "    \n",
    "# some of the names are too long to display\n",
    "# let's fix that\n",
    "team_map = dict()\n",
    "for (team, (seed, id_)) in team_map_.items():\n",
    "    \n",
    "    if (len(team) > 4):\n",
    "        if (\" \" not in team):\n",
    "            team_ = team[:3].upper()\n",
    "        else:\n",
    "            team_ = \"\".join([c for c in team if c.isupper()])\n",
    "    else:\n",
    "        team_ = team\n",
    "    \n",
    "    team_map[team_] = (seed, id_)"
   ]
  },
  {
   "cell_type": "markdown",
   "metadata": {},
   "source": [
    "<a id='saving_the_images'></a>\n",
    "### Saving the images\n",
    "\n",
    "Use the ID to access the team logo, and save that locally."
   ]
  },
  {
   "cell_type": "code",
   "execution_count": 5,
   "metadata": {},
   "outputs": [],
   "source": [
    "for (team_name, (seed, team_id)) in team_map.items():        \n",
    "    logo_url = IMAGE_LINK.format(team_id)\n",
    "    file_name = LOGO_DIR + team_name + \".png\"\n",
    "    with open(file_name, \"wb\") as f:\n",
    "        response = requests.get(logo_url)\n",
    "        pic = response.content\n",
    "        f.write(pic)"
   ]
  },
  {
   "cell_type": "markdown",
   "metadata": {},
   "source": [
    "<a id='calculating_the_blue'></a>\n",
    "### Calculating the blue\n",
    "\n",
    "Use `opencv2` to read in the images. Each pixel has a red, green, blue, and alpha value. Store these in a CSV."
   ]
  },
  {
   "cell_type": "code",
   "execution_count": 6,
   "metadata": {},
   "outputs": [],
   "source": [
    "# function to calculate the blueness\n",
    "def get_blue(image_file):\n",
    "    \n",
    "    # convert to pixel list and filter out see-through pixels\n",
    "    image = cv2.imread(image_file, cv2.IMREAD_UNCHANGED)\n",
    "    n_pixels = image.shape[0] * image.shape[1]\n",
    "    all_pixels = np.reshape(image, (n_pixels, 4))\n",
    "    pixels = np.array([p for p in all_pixels if p[3] != 0])\n",
    "    \n",
    "    # get the mean color\n",
    "    bgra_mean = np.average(pixels, axis=0)\n",
    "    \n",
    "    # and the median color\n",
    "    bgra_median = np.median(pixels, axis=0)\n",
    "    \n",
    "    return bgra_mean, bgra_median    "
   ]
  },
  {
   "cell_type": "code",
   "execution_count": 7,
   "metadata": {},
   "outputs": [],
   "source": [
    "# save the blue info\n",
    "\n",
    "out = [\"team,seed,r_mean,g_mean,b_mean,r_med,g_med,b_med\"]\n",
    "for (team_name, (seed, team_id)) in team_map.items():\n",
    "\n",
    "    # files\n",
    "    image_file = LOGO_DIR + team_name + \".png\"\n",
    "    mn_file = LOGO_DIR + team_name + \"-mean.png\"\n",
    "    md_file = LOGO_DIR + team_name + \"-median.png\"\n",
    "\n",
    "    # calculate blueness\n",
    "    bgra_mean, bgra_median = get_blue(image_file)\n",
    "    [b_mn, g_mn, r_mn, a_mn] = bgra_mean\n",
    "    [b_md, g_md, r_md, a_md] = bgra_median\n",
    "\n",
    "    # save pixels\n",
    "    row = \",\".join([\n",
    "        team_name, seed,\n",
    "        str(r_mn), str(g_mn), str(b_mn),\n",
    "        str(r_md), str(g_md), str(b_md)])\n",
    "    out.append(row)\n",
    "\n",
    "    # save color blocks--\n",
    "    # this is not at all necessary for the analysis, but i like to look at them\n",
    "\n",
    "    def save_color_block(file, color):\n",
    "        color_block = np.zeros((100, 100, 4), dtype=np.uint8)\n",
    "        color_block[:, :] = color\n",
    "        cv2.imwrite(file, color_block)\n",
    "\n",
    "    save_color_block(mn_file, bgra_mean)\n",
    "    save_color_block(md_file, bgra_median)\n",
    "    \n",
    "with open(PIXEL_FILE, \"w\") as f:\n",
    "    csv = \"\\n\".join(out)\n",
    "    f.write(csv)"
   ]
  },
  {
   "cell_type": "markdown",
   "metadata": {},
   "source": [
    "<a id='visualizations'></a>\n",
    "## Visualizations\n",
    "\n",
    "\"MaxBlue\" is a little ambiguous, so we'll look at several different ways of calculating it.\n",
    "\n",
    "When reading in the images, there were two ways to calculate the blue-ness of a logo: taking the mean value of the pixels, and taking the median. The mean will blur together the colors, while the median will grab the most prevalent color. For example, Iowa State's logo is predominantly red, with some yellow. The mean color is orange, but the median color is red.\n",
    "\n",
    "\n",
    "<img src='demo.png'>\n",
    "\n",
    "\n",
    "For each of the blue-ness calculations, we'll see how it performs with both the mean and the median.\n",
    "\n",
    "Also, all these plots were made with `ggplot2`, saved, and read in because `matplotlib` will never be prettier no matter how hard I try. Skeleton `R` code is available on [my github](https://github.com/malaikahanda/marchmadness/blob/master/plots/plots.r)."
   ]
  },
  {
   "cell_type": "code",
   "execution_count": 8,
   "metadata": {},
   "outputs": [
    {
     "data": {
      "text/html": [
       "<div>\n",
       "<style scoped>\n",
       "    .dataframe tbody tr th:only-of-type {\n",
       "        vertical-align: middle;\n",
       "    }\n",
       "\n",
       "    .dataframe tbody tr th {\n",
       "        vertical-align: top;\n",
       "    }\n",
       "\n",
       "    .dataframe thead th {\n",
       "        text-align: right;\n",
       "    }\n",
       "</style>\n",
       "<table border=\"1\" class=\"dataframe\">\n",
       "  <thead>\n",
       "    <tr style=\"text-align: right;\">\n",
       "      <th></th>\n",
       "      <th>team</th>\n",
       "      <th>seed</th>\n",
       "      <th>r_mean</th>\n",
       "      <th>g_mean</th>\n",
       "      <th>b_mean</th>\n",
       "      <th>r_med</th>\n",
       "      <th>g_med</th>\n",
       "      <th>b_med</th>\n",
       "    </tr>\n",
       "  </thead>\n",
       "  <tbody>\n",
       "    <tr>\n",
       "      <th>0</th>\n",
       "      <td>BEL</td>\n",
       "      <td>11</td>\n",
       "      <td>161.571232</td>\n",
       "      <td>125.746369</td>\n",
       "      <td>152.820584</td>\n",
       "      <td>230.0</td>\n",
       "      <td>68.0</td>\n",
       "      <td>117.0</td>\n",
       "    </tr>\n",
       "    <tr>\n",
       "      <th>1</th>\n",
       "      <td>TEM</td>\n",
       "      <td>11</td>\n",
       "      <td>196.945403</td>\n",
       "      <td>68.768823</td>\n",
       "      <td>104.959586</td>\n",
       "      <td>178.0</td>\n",
       "      <td>8.0</td>\n",
       "      <td>56.0</td>\n",
       "    </tr>\n",
       "    <tr>\n",
       "      <th>2</th>\n",
       "      <td>NDS</td>\n",
       "      <td>16</td>\n",
       "      <td>91.691280</td>\n",
       "      <td>128.851433</td>\n",
       "      <td>61.555582</td>\n",
       "      <td>0.0</td>\n",
       "      <td>87.0</td>\n",
       "      <td>61.0</td>\n",
       "    </tr>\n",
       "    <tr>\n",
       "      <th>3</th>\n",
       "      <td>NCC</td>\n",
       "      <td>16</td>\n",
       "      <td>158.993490</td>\n",
       "      <td>142.292741</td>\n",
       "      <td>147.590061</td>\n",
       "      <td>159.0</td>\n",
       "      <td>161.0</td>\n",
       "      <td>164.0</td>\n",
       "    </tr>\n",
       "    <tr>\n",
       "      <th>4</th>\n",
       "      <td>AS</td>\n",
       "      <td>11</td>\n",
       "      <td>196.955922</td>\n",
       "      <td>103.316853</td>\n",
       "      <td>51.170241</td>\n",
       "      <td>176.0</td>\n",
       "      <td>68.0</td>\n",
       "      <td>54.0</td>\n",
       "    </tr>\n",
       "  </tbody>\n",
       "</table>\n",
       "</div>"
      ],
      "text/plain": [
       "  team  seed      r_mean      g_mean      b_mean  r_med  g_med  b_med\n",
       "0  BEL    11  161.571232  125.746369  152.820584  230.0   68.0  117.0\n",
       "1  TEM    11  196.945403   68.768823  104.959586  178.0    8.0   56.0\n",
       "2  NDS    16   91.691280  128.851433   61.555582    0.0   87.0   61.0\n",
       "3  NCC    16  158.993490  142.292741  147.590061  159.0  161.0  164.0\n",
       "4   AS    11  196.955922  103.316853   51.170241  176.0   68.0   54.0"
      ]
     },
     "execution_count": 8,
     "metadata": {},
     "output_type": "execute_result"
    }
   ],
   "source": [
    "df = pd.read_csv(PIXEL_FILE)\n",
    "df[\"seed\"] = df[\"seed\"].astype(int)\n",
    "df.head()"
   ]
  },
  {
   "cell_type": "markdown",
   "metadata": {},
   "source": [
    "<a id='max'></a>\n",
    "### Maximum blue value\n",
    "\n",
    "Here we look at just the blue value in the rgb color."
   ]
  },
  {
   "cell_type": "markdown",
   "metadata": {},
   "source": [
    "Here's maximum blue with the mean:\n",
    "\n",
    "<img src='plots/mean.jpg'>"
   ]
  },
  {
   "cell_type": "markdown",
   "metadata": {},
   "source": [
    "Here's maximum blue with the median:\n",
    "\n",
    "<img src='plots/median.jpg'>"
   ]
  },
  {
   "cell_type": "markdown",
   "metadata": {},
   "source": [
    "<a id='max_sub'></a>\n",
    "### Maximum blue value, penalized (subtraction)\n",
    "\n",
    "Just because a color has a high blue value in the rgb color doesn't mean that it looks blue to us. For example, white has the highest blue value you can get (255). However, white also has high red and green values. We want a color that's mostly blue, with low red and green. Here, we'll measure blue-ness by subtracting off the red and green values."
   ]
  },
  {
   "cell_type": "markdown",
   "metadata": {},
   "source": [
    "Here's the subtraction-penalized maximum blue with the mean:\n",
    "\n",
    "<img src='plots/mean_sub.jpg'>"
   ]
  },
  {
   "cell_type": "markdown",
   "metadata": {},
   "source": [
    "Here's the subtraction-penalized maximum blue with the median:\n",
    "\n",
    "<img src='plots/median_sub.jpg'>"
   ]
  },
  {
   "cell_type": "markdown",
   "metadata": {},
   "source": [
    "<a id='max_div'></a>\n",
    "### Maximum blue value, penalized (division)\n",
    "\n",
    "We can also try penalizing by dividing, rather than subtracting."
   ]
  },
  {
   "cell_type": "markdown",
   "metadata": {},
   "source": [
    "Here's the division-penalized maximum blue with the mean:\n",
    "\n",
    "<img src='plots/mean_div.jpg'>"
   ]
  },
  {
   "cell_type": "markdown",
   "metadata": {},
   "source": [
    "Here's the division-penalized maximum blue with the median:\n",
    "\n",
    "<img src='plots/median_div.jpg'>"
   ]
  },
  {
   "cell_type": "markdown",
   "metadata": {},
   "source": [
    "<a id='conclusion'></a>\n",
    "## Conclusion\n",
    "\n",
    "This has been a journey. Am I more knowledgeable about basketball than before? No. But am I more knowledgeable about data science than before? Also no."
   ]
  },
  {
   "cell_type": "markdown",
   "metadata": {},
   "source": [
    "###### <a id='selection_sunday'></a>\n",
    "### Feature selection Sunday\n",
    "\n",
    "I am wildly proud of the above heading. Please take a moment to enjoy it.\n",
    "\n",
    "Anyway, it was a little unclear how I was going to decide the best way of calculating blue-ness. I could look at which method correlates best with seed, or I could look at which one best captures the essence of being blue. The first option would likely give me better results, but the second option does a better job of getting the spirit of MaxBlue, so that's what I decided to do.\n",
    "\n",
    "Based on the plots, the metric that best represents how blue a team's logo is comes by penalizing via the subtraction the median color of the logo, so that's what I've used below."
   ]
  },
  {
   "cell_type": "code",
   "execution_count": 9,
   "metadata": {},
   "outputs": [],
   "source": [
    "df[\"blueness\"] = df[\"b_med\"] - (df[\"r_med\"] + df[\"g_med\"])\n",
    "\n",
    "def winner(seed1, seed2):\n",
    "    sub = df[[\"seed\", \"team\", \"blueness\"]]\n",
    "    print(sub[sub[\"seed\"] == seed1])\n",
    "    print(sub[sub[\"seed\"] == seed2])\n",
    "    return\n",
    "    \n",
    "# winner(2, 4)"
   ]
  },
  {
   "cell_type": "markdown",
   "metadata": {},
   "source": [
    "<a id='bracket'></a>\n",
    "### Bracket\n",
    "\n",
    "Aaaand here's my filled out bracket:\n",
    "\n",
    "<img src='bracket.jpg'>"
   ]
  },
  {
   "cell_type": "code",
   "execution_count": null,
   "metadata": {},
   "outputs": [],
   "source": []
  }
 ],
 "metadata": {
  "kernelspec": {
   "display_name": "Python 3",
   "language": "python",
   "name": "python3"
  },
  "language_info": {
   "codemirror_mode": {
    "name": "ipython",
    "version": 3
   },
   "file_extension": ".py",
   "mimetype": "text/x-python",
   "name": "python",
   "nbconvert_exporter": "python",
   "pygments_lexer": "ipython3",
   "version": "3.6.4"
  }
 },
 "nbformat": 4,
 "nbformat_minor": 2
}
