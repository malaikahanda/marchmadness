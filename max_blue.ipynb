{
 "cells": [
  {
   "cell_type": "markdown",
   "metadata": {},
   "source": [
    "# MaxBlue Algorithm for Determining Basketball Winners\n",
    "\n",
    "Hypothesis: in a match up between two teams, the bluest team will win.\n",
    "\n",
    "## Contents\n",
    "- [Data collection](#data_collection)\n",
    "    - [Scraping the page](#scraping_the_page)\n",
    "    - [Saving the images](#saving_the_images)\n",
    "    - [Calculating the blue](#calculating_the_blue)\n",
    "- [Visualizations](#visualizations)\n",
    "    - [Maximum blue value](#maximum_blue_value)\n",
    "    - [Mean blue value](#mean)\n",
    "    - [Mean blue value, penalized](#mean_penalized)\n",
    "    - [Median blue value](#median)\n",
    "    - [Median blue value, penalized](#median_penalized)"
   ]
  },
  {
   "cell_type": "code",
   "execution_count": 1,
   "metadata": {},
   "outputs": [],
   "source": [
    "from bs4 import BeautifulSoup\n",
    "import cv2\n",
    "import numpy as np\n",
    "import pandas as pd\n",
    "import requests"
   ]
  },
  {
   "cell_type": "markdown",
   "metadata": {},
   "source": [
    "<a id='data_collection'></a>\n",
    "## Data collection\n",
    "\n",
    "To keep some semblance of standardization, all the images come from the exact same place: the ESPN website."
   ]
  },
  {
   "cell_type": "markdown",
   "metadata": {},
   "source": [
    "<a id='scraping_the_page'></a>\n",
    "### Scraping the page\n",
    "\n",
    "Each school listed in the bracket is a link that contains the school's name and ID. We can grab all these links, and then store the names and IDs."
   ]
  },
  {
   "cell_type": "code",
   "execution_count": 39,
   "metadata": {},
   "outputs": [],
   "source": [
    "# constants\n",
    "\n",
    "HEADERS = {\n",
    "\"User-Agent\":'Mozilla/5.0 (Windows NT 6.3; WOW64) AppleWebKit/537.36 (KHTML, like Gecko) Chrome/59.0.3071.115 Safari/537.36'\n",
    "}\n",
    "\n",
    "SITE = \"http://www.espn.com/mens-college-basketball/tournament/bracket\"\n",
    "TEAM_ID = \"team/_/id/\"\n",
    "LOGO_DIR = \"logos/\"\n",
    "IMAGE_LINK = \"https://a.espncdn.com/i/teamlogos/ncaa/500/{}.png\"\n",
    "PIXEL_FILE = \"pixels.csv\""
   ]
  },
  {
   "cell_type": "code",
   "execution_count": 27,
   "metadata": {},
   "outputs": [],
   "source": [
    "# read the bracket, and find each team\n",
    "page = requests.get(SITE, headers=HEADERS)\n",
    "soup = BeautifulSoup(page.content, \"lxml\")\n",
    "link_tags = soup.find_all(\"a\")\n",
    "links = [link_tag.get(\"href\") for link_tag in link_tags]\n",
    "teams = [link for link in links if TEAM_ID in link]"
   ]
  },
  {
   "cell_type": "code",
   "execution_count": 28,
   "metadata": {},
   "outputs": [],
   "source": [
    "# use the link to grab information about each team\n",
    "# two teams appear twice, so skip those\n",
    "\n",
    "repeats = [\"prairie-view-a%26m-panthers\", \"st.-john's-red-storm\"]\n",
    "\n",
    "team_map = {}\n",
    "for team in teams:\n",
    "    \n",
    "    splits = team.split(\"/\")\n",
    "    team_id = splits[-2]\n",
    "    team_name = splits[-1]\n",
    "    \n",
    "    if (team_name not in repeats):\n",
    "        team_map[team_name] = team_id"
   ]
  },
  {
   "cell_type": "markdown",
   "metadata": {},
   "source": [
    "<a id='saving_the_images'></a>\n",
    "### Saving the images\n",
    "\n",
    "Use the ID to access the team logo, and save that locally."
   ]
  },
  {
   "cell_type": "code",
   "execution_count": 29,
   "metadata": {},
   "outputs": [],
   "source": [
    "for (team_name, team_id) in team_map.items():        \n",
    "    logo_url = IMAGE_LINK.format(team_id)\n",
    "    file_name = LOGO_DIR + team_name + \".png\"\n",
    "    with open(file_name, \"wb\") as f:\n",
    "        response = requests.get(logo_url)\n",
    "        pic = response.content\n",
    "        f.write(pic)"
   ]
  },
  {
   "cell_type": "markdown",
   "metadata": {},
   "source": [
    "<a id='calculating_the_blue'></a>\n",
    "### Calculating the blue\n",
    "\n",
    "Use `opencv2` to read in the images. Each pixel has a red, green, blue, and alpha value. Store these in a CSV."
   ]
  },
  {
   "cell_type": "code",
   "execution_count": 37,
   "metadata": {},
   "outputs": [],
   "source": [
    "# function to calculate the blueness\n",
    "def get_blue(image_file):\n",
    "    \n",
    "    # convert to pixel list and filter out see-through pixels\n",
    "    image = cv2.imread(image_file, cv2.IMREAD_UNCHANGED)\n",
    "    n_pixels = image.shape[0] * image.shape[1]\n",
    "    all_pixels = np.reshape(image, (n_pixels, 4))\n",
    "    pixels = np.array([p for p in all_pixels if p[3] != 0])\n",
    "    \n",
    "    # get the max blue value (scalar)\n",
    "    b_max = max(pixels[:, 0])\n",
    "    \n",
    "    # and the mean color (list)\n",
    "    bgra_mean = np.average(pixels, axis=0)\n",
    "    \n",
    "    # and the median color (list)\n",
    "    bgra_median = np.median(pixels, axis=0)\n",
    "    \n",
    "    return b_max, bgra_mean, bgra_median    "
   ]
  },
  {
   "cell_type": "code",
   "execution_count": 38,
   "metadata": {},
   "outputs": [],
   "source": [
    "# save the blue info\n",
    "\n",
    "out = [\"team,b_max,r_mean,g_mean,b_mean,a_mean,r_med,g_med,b_med,a_med\"]\n",
    "for team_name in team_map.keys():\n",
    "        \n",
    "        # files\n",
    "        image_file = LOGO_DIR + team_name + \".png\"\n",
    "        max_file = LOGO_DIR + team_name + \"-max.png\"\n",
    "        mn_file = LOGO_DIR + team_name + \"-mean.png\"\n",
    "        md_file = LOGO_DIR + team_name + \"-median.png\"\n",
    "\n",
    "        # calculate blueness\n",
    "        b_max, bgra_mean, bgra_median = get_blue(image_file)\n",
    "        [b_mn, g_mn, r_mn, a_mn] = bgra_mean\n",
    "        [b_md, g_md, r_md, a_md] = bgra_mean\n",
    "\n",
    "        # save pixels\n",
    "        row = \",\".join([\n",
    "            team_name, str(b_max),\n",
    "            str(r_mn), str(g_mn), str(b_mn), str(a_mn),\n",
    "            str(r_md), str(g_md), str(b_md), str(a_md)])\n",
    "        out.append(row)\n",
    "\n",
    "        # save color blocks--\n",
    "        # this is not at all necessary for the analysis, but i like to look at them\n",
    "        color_max = np.zeros((100, 100, 4), dtype=np.uint8)\n",
    "        color_max[:, :] = [b_max, 0, 0, 255]\n",
    "        cv2.imwrite(max_file, color_max)\n",
    "        color_mn = np.zeros((100, 100, 4), dtype=np.uint8)\n",
    "        color_mn[:, :] = bgra_mean\n",
    "        cv2.imwrite(mn_file, color_mn)\n",
    "        color_md = np.zeros((100, 100, 4), dtype=np.uint8)\n",
    "        color_md[:, :] = bgra_median\n",
    "        cv2.imwrite(md_file, color_md)\n",
    "    \n",
    "with open(PIXEL_FILE, \"w\") as f:\n",
    "    csv = \"\\n\".join(out)\n",
    "    f.write(csv)"
   ]
  },
  {
   "cell_type": "markdown",
   "metadata": {},
   "source": [
    "<a id='visualizations'></a>\n",
    "## Visualizations\n",
    "\n",
    "\"MaxBlue\" is a little ambiguous, so let's look at several different ways of calculating it."
   ]
  },
  {
   "cell_type": "code",
   "execution_count": 40,
   "metadata": {},
   "outputs": [],
   "source": [
    "df = pd.read_csv(PIXEL_FILE)"
   ]
  },
  {
   "cell_type": "markdown",
   "metadata": {},
   "source": [
    " <a id='maximum_blue_value'></a>\n",
    "### Maximum blue value\n",
    "\n",
    "Each pixel has a blue value. Simply take the highest one."
   ]
  },
  {
   "cell_type": "code",
   "execution_count": 60,
   "metadata": {},
   "outputs": [
    {
     "name": "stdout",
     "output_type": "stream",
     "text": [
      "                             team           b  penalized_b\n",
      "6                duke-blue-devils  134.000000    87.000000\n",
      "32               nevada-wolf-pack   98.000000    53.000000\n",
      "66              kentucky-wildcats  177.705379    37.299562\n",
      "42          kansas-state-wildcats  118.000000    33.000000\n",
      "63         georgia-state-panthers  185.852697    10.673037\n",
      "49                  iowa-hawkeyes    0.000000     0.000000\n",
      "54              utah-state-aggies   98.360339    -9.932571\n",
      "44             villanova-wildcats  167.455472   -14.945385\n",
      "28                  buffalo-bulls  191.579281   -14.957625\n",
      "41                   oregon-ducks   73.000000   -38.000000\n",
      "18        michigan-state-spartans   59.000000   -38.000000\n",
      "15                  yale-bulldogs  162.119506   -39.502233\n",
      "5     fairleigh-dickinson-knights  157.234022   -39.621279\n",
      "67     abilene-christian-wildcats  154.874882   -52.297259\n",
      "45             saint-mary's-gaels  132.956572   -52.374860\n",
      "48            cincinnati-bearcats   36.811323   -68.516016\n",
      "56                  auburn-tigers   79.197179   -70.669073\n",
      "55             washington-huskies  128.928016   -75.102702\n",
      "64               wofford-terriers   69.657739   -80.588400\n",
      "65             seton-hall-pirates  200.629331   -82.942660\n",
      "57        new-mexico-state-aggies   85.018782   -83.826985\n",
      "47          old-dominion-monarchs  170.018503   -85.606062\n",
      "33                 florida-gators  120.943229   -86.647617\n",
      "14                     lsu-tigers   98.968890   -93.172246\n",
      "29             st-johns-red-storm   33.700650   -97.611015\n",
      "21       prairie-view-am-panthers   65.216817  -103.680352\n",
      "59           northeastern-huskies  106.197449  -104.398722\n",
      "10                 liberty-flames  145.507922  -104.818873\n",
      "35              montana-grizzlies   75.000000  -118.000000\n",
      "30         texas-tech-red-raiders   64.793919  -123.704454\n",
      "..                            ...         ...          ...\n",
      "51                colgate-raiders  115.911849  -137.496054\n",
      "11           virginia-tech-hokies   86.663283  -142.414869\n",
      "43            uc-irvine-anteaters   56.426055  -146.821808\n",
      "27             vermont-catamounts   63.717467  -150.741069\n",
      "58                kansas-jayhawks  131.287785  -153.225184\n",
      "2   north-carolina-central-eagles  147.590061  -153.696170\n",
      "9      mississippi-state-bulldogs  106.040199  -154.004428\n",
      "8                     ucf-knights   97.745947  -154.335195\n",
      "3        north-dakota-state-bison   61.555582  -158.987131\n",
      "16           louisville-cardinals   24.937626  -160.514223\n",
      "1                     temple-owls  104.959586  -160.754640\n",
      "37          gardner-webb-bulldogs  136.582186  -167.402249\n",
      "61            ohio-state-buckeyes  152.628987  -169.122088\n",
      "40              wisconsin-badgers   33.567209  -174.249829\n",
      "46            purdue-boilermakers  116.602514  -176.640547\n",
      "31        northern-kentucky-norse  102.791441  -185.290165\n",
      "17       minnesota-golden-gophers   34.851702  -188.990329\n",
      "13             maryland-terrapins   48.060645  -192.517727\n",
      "53                     iona-gaels   42.142982  -197.917775\n",
      "62                houston-cougars   88.914605  -198.871567\n",
      "7                        vcu-rams  117.948536  -204.269481\n",
      "24        marquette-golden-eagles  107.944045  -214.850431\n",
      "25            murray-state-racers   59.820111  -218.284488\n",
      "19                 bradley-braves  174.439353  -227.259130\n",
      "60            iowa-state-cyclones   58.843047  -233.486425\n",
      "4        arizona-state-sun-devils   51.170241  -249.102534\n",
      "22                syracuse-orange   57.806069  -252.984015\n",
      "36             virginia-cavaliers  115.969899  -291.661057\n",
      "34            michigan-wolverines   19.894136  -374.110029\n",
      "50           tennessee-volunteers    4.000000  -379.000000\n",
      "\n",
      "[68 rows x 3 columns]\n"
     ]
    }
   ],
   "source": [
    "# check out the results\n",
    "df = pd.read_csv(\"pixels.csv\")\n",
    "df[\"penalized_b\"] = df[\"b\"] - (df[\"r\"] + df[\"g\"])\n",
    "df = df.sort_values(\"penalized_b\", ascending=False)\n",
    "print(df[[\"team\", \"b\", \"penalized_b\"]])"
   ]
  },
  {
   "cell_type": "markdown",
   "metadata": {},
   "source": [
    " <a id='mean'></a>\n",
    "### Mean blue value\n",
    "\n",
    "Take the average of all the blue values."
   ]
  },
  {
   "cell_type": "markdown",
   "metadata": {},
   "source": [
    " <a id='mean_penalized'></a>\n",
    "### Mean blue value, penalized\n",
    "\n",
    "Take the average of all the blue values, and subtract off the mean red value and mean green value."
   ]
  },
  {
   "cell_type": "markdown",
   "metadata": {},
   "source": [
    " <a id='median'></a>\n",
    "### Median blue value\n",
    "\n",
    "Take the median of all the blue values."
   ]
  },
  {
   "cell_type": "markdown",
   "metadata": {},
   "source": [
    " <a id='median_penalized'></a>\n",
    "### Median blue value, penalized\n",
    "\n",
    "Take the median of all the blue values, and subtract off the median red value and median green value."
   ]
  },
  {
   "cell_type": "code",
   "execution_count": null,
   "metadata": {},
   "outputs": [],
   "source": []
  }
 ],
 "metadata": {
  "kernelspec": {
   "display_name": "Python 3",
   "language": "python",
   "name": "python3"
  },
  "language_info": {
   "codemirror_mode": {
    "name": "ipython",
    "version": 3
   },
   "file_extension": ".py",
   "mimetype": "text/x-python",
   "name": "python",
   "nbconvert_exporter": "python",
   "pygments_lexer": "ipython3",
   "version": "3.6.4"
  }
 },
 "nbformat": 4,
 "nbformat_minor": 2
}
